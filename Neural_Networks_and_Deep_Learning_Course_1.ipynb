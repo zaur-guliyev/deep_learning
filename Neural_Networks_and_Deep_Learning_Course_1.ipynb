{
  "nbformat": 4,
  "nbformat_minor": 0,
  "metadata": {
    "colab": {
      "name": "Neural_Networks_and_Deep_Learning_Course_1.ipynb",
      "provenance": [],
      "mount_file_id": "1rUaEUcopViZ9elhuFLbmMsznEZcwRWjG",
      "authorship_tag": "ABX9TyNv3Svo6FGPZgqx330saCGl",
      "include_colab_link": true
    },
    "kernelspec": {
      "name": "python3",
      "display_name": "Python 3"
    },
    "language_info": {
      "name": "python"
    }
  },
  "cells": [
    {
      "cell_type": "markdown",
      "metadata": {
        "id": "view-in-github",
        "colab_type": "text"
      },
      "source": [
        "<a href=\"https://colab.research.google.com/github/zaur-guliyev/deep_learning/blob/main/Neural_Networks_and_Deep_Learning_Course_1.ipynb\" target=\"_parent\"><img src=\"https://colab.research.google.com/assets/colab-badge.svg\" alt=\"Open In Colab\"/></a>"
      ]
    },
    {
      "cell_type": "code",
      "metadata": {
        "id": "wDMCnsm3PMTg"
      },
      "source": [
        "import numpy as np\n",
        "import time\n"
      ],
      "execution_count": 1,
      "outputs": []
    },
    {
      "cell_type": "code",
      "metadata": {
        "colab": {
          "base_uri": "https://localhost:8080/"
        },
        "id": "68_eYBCMQoPB",
        "outputId": "d4c4cebf-4c7a-4e50-b85f-1d53f906ee34"
      },
      "source": [
        "a=np.random.rand(1000000)\n",
        "b=np.random.rand(1000000)\n",
        "\n",
        "tic =time.time()\n",
        "c=np.dot(a,b)\n",
        "toc =time.time()\n",
        "print(c)\n",
        "print(toc)\n",
        "print(tic)\n",
        "print(f\"Vector = {toc-tic} ms\")\n",
        "\n",
        "c=0\n",
        "tic =time.time()\n",
        "for i in range(1000000):\n",
        "  c+=a[i]*b[i]\n",
        "toc =time.time()\n",
        "print(f\"Loop = {toc-tic} ms\")\n",
        "print(c)"
      ],
      "execution_count": 2,
      "outputs": [
        {
          "output_type": "stream",
          "text": [
            "249830.3263067567\n",
            "1618933824.3230784\n",
            "1618933824.321326\n",
            "Vector = 0.0017523765563964844 ms\n",
            "Loop = 0.7013182640075684 ms\n",
            "249830.32630675394\n"
          ],
          "name": "stdout"
        }
      ]
    },
    {
      "cell_type": "code",
      "metadata": {
        "colab": {
          "base_uri": "https://localhost:8080/"
        },
        "id": "HzpR7HZDRFfH",
        "outputId": "0adbc580-44c7-4438-b310-9e25db84ccc5"
      },
      "source": [
        "ab=np.array([1,2])\n",
        "cd=np.array([6,7])\n",
        "\n",
        "df=np.dot(ab,cd)\n",
        "df"
      ],
      "execution_count": 3,
      "outputs": [
        {
          "output_type": "execute_result",
          "data": {
            "text/plain": [
              "20"
            ]
          },
          "metadata": {
            "tags": []
          },
          "execution_count": 3
        }
      ]
    },
    {
      "cell_type": "code",
      "metadata": {
        "colab": {
          "base_uri": "https://localhost:8080/"
        },
        "id": "kzupNRrmTj2j",
        "outputId": "2ebcf5e3-9c17-433a-fc52-5a00aa74fa90"
      },
      "source": [
        "list1=[1,2,4]\n",
        "list2=[2,3,4]\n",
        "\n",
        "re=0\n",
        "for i in range(0,3):\n",
        "  re+=list1[i]*list2[i]\n",
        "  print(re)\n",
        "print(re)"
      ],
      "execution_count": 4,
      "outputs": [
        {
          "output_type": "stream",
          "text": [
            "2\n",
            "8\n",
            "24\n",
            "24\n"
          ],
          "name": "stdout"
        }
      ]
    },
    {
      "cell_type": "code",
      "metadata": {
        "colab": {
          "base_uri": "https://localhost:8080/"
        },
        "id": "kzswAxuTYNT-",
        "outputId": "8c4ef76d-b135-4638-8d07-62e9d402496f"
      },
      "source": [
        "A=np.array([[56,0,4.4,8],\n",
        "           [1.2, 104, 52,8],\n",
        "           [1.8,135, 99, 0.9]])\n",
        "A"
      ],
      "execution_count": 5,
      "outputs": [
        {
          "output_type": "execute_result",
          "data": {
            "text/plain": [
              "array([[ 56. ,   0. ,   4.4,   8. ],\n",
              "       [  1.2, 104. ,  52. ,   8. ],\n",
              "       [  1.8, 135. ,  99. ,   0.9]])"
            ]
          },
          "metadata": {
            "tags": []
          },
          "execution_count": 5
        }
      ]
    },
    {
      "cell_type": "code",
      "metadata": {
        "colab": {
          "base_uri": "https://localhost:8080/"
        },
        "id": "Yl-83e9Eyo4q",
        "outputId": "edecba4a-9afc-48bf-8119-89123135d885"
      },
      "source": [
        "cal=A.sum(axis=0)\n",
        "cal.shape"
      ],
      "execution_count": 6,
      "outputs": [
        {
          "output_type": "execute_result",
          "data": {
            "text/plain": [
              "(4,)"
            ]
          },
          "metadata": {
            "tags": []
          },
          "execution_count": 6
        }
      ]
    },
    {
      "cell_type": "code",
      "metadata": {
        "colab": {
          "base_uri": "https://localhost:8080/"
        },
        "id": "DVQeE2Cyy45k",
        "outputId": "e4c894d8-7a42-457d-897a-51aff5f5d5f9"
      },
      "source": [
        "per=100*A/cal.reshape(1,4)\n",
        "per"
      ],
      "execution_count": 7,
      "outputs": [
        {
          "output_type": "execute_result",
          "data": {
            "text/plain": [
              "array([[94.91525424,  0.        ,  2.83140283, 47.33727811],\n",
              "       [ 2.03389831, 43.51464435, 33.46203346, 47.33727811],\n",
              "       [ 3.05084746, 56.48535565, 63.70656371,  5.32544379]])"
            ]
          },
          "metadata": {
            "tags": []
          },
          "execution_count": 7
        }
      ]
    },
    {
      "cell_type": "code",
      "metadata": {
        "colab": {
          "base_uri": "https://localhost:8080/"
        },
        "id": "EhHUsUomzMiG",
        "outputId": "0a85ac47-6c88-48d7-dbcf-2bb3c34928bc"
      },
      "source": [
        "a=np.random.rand(5)\n",
        "a"
      ],
      "execution_count": 8,
      "outputs": [
        {
          "output_type": "execute_result",
          "data": {
            "text/plain": [
              "array([0.34534253, 0.45093155, 0.77800138, 0.80095418, 0.55703853])"
            ]
          },
          "metadata": {
            "tags": []
          },
          "execution_count": 8
        }
      ]
    },
    {
      "cell_type": "code",
      "metadata": {
        "colab": {
          "base_uri": "https://localhost:8080/"
        },
        "id": "BaZQL76t2QYv",
        "outputId": "4084b654-867c-4595-87ba-80986d543031"
      },
      "source": [
        "a.T"
      ],
      "execution_count": 9,
      "outputs": [
        {
          "output_type": "execute_result",
          "data": {
            "text/plain": [
              "array([0.34534253, 0.45093155, 0.77800138, 0.80095418, 0.55703853])"
            ]
          },
          "metadata": {
            "tags": []
          },
          "execution_count": 9
        }
      ]
    },
    {
      "cell_type": "code",
      "metadata": {
        "colab": {
          "base_uri": "https://localhost:8080/"
        },
        "id": "DzVXA6cs2q6v",
        "outputId": "6e2dada5-e4e8-432f-f390-8c812c7990fd"
      },
      "source": [
        "a.reshape(1,5).T"
      ],
      "execution_count": 10,
      "outputs": [
        {
          "output_type": "execute_result",
          "data": {
            "text/plain": [
              "array([[0.34534253],\n",
              "       [0.45093155],\n",
              "       [0.77800138],\n",
              "       [0.80095418],\n",
              "       [0.55703853]])"
            ]
          },
          "metadata": {
            "tags": []
          },
          "execution_count": 10
        }
      ]
    },
    {
      "cell_type": "code",
      "metadata": {
        "colab": {
          "base_uri": "https://localhost:8080/"
        },
        "id": "Mw5Ees0Y2uX1",
        "outputId": "ba9cb614-3e91-48e6-a01b-b35b8b702202"
      },
      "source": [
        "a=np.random.rand(5,1)\n",
        "a"
      ],
      "execution_count": 11,
      "outputs": [
        {
          "output_type": "execute_result",
          "data": {
            "text/plain": [
              "array([[0.75525754],\n",
              "       [0.66651553],\n",
              "       [0.55193419],\n",
              "       [0.8570923 ],\n",
              "       [0.18404719]])"
            ]
          },
          "metadata": {
            "tags": []
          },
          "execution_count": 11
        }
      ]
    },
    {
      "cell_type": "code",
      "metadata": {
        "colab": {
          "base_uri": "https://localhost:8080/"
        },
        "id": "F9cyhE6624ca",
        "outputId": "d09108dd-f827-4eea-bb95-82b8b1039e24"
      },
      "source": [
        "np.dot(a,a.T)"
      ],
      "execution_count": 12,
      "outputs": [
        {
          "output_type": "execute_result",
          "data": {
            "text/plain": [
              "array([[0.57041395, 0.50339088, 0.41685246, 0.64732542, 0.13900303],\n",
              "       [0.50339088, 0.44424295, 0.36787271, 0.57126533, 0.12267031],\n",
              "       [0.41685246, 0.36787271, 0.30463135, 0.47305854, 0.10158194],\n",
              "       [0.64732542, 0.57126533, 0.47305854, 0.73460721, 0.15774543],\n",
              "       [0.13900303, 0.12267031, 0.10158194, 0.15774543, 0.03387337]])"
            ]
          },
          "metadata": {
            "tags": []
          },
          "execution_count": 12
        }
      ]
    },
    {
      "cell_type": "code",
      "metadata": {
        "id": "zTx4yZ393KDl"
      },
      "source": [
        "a = np.random.randn(2, 3) # a.shape = (2, 3)\n",
        "b = np.random.randn(2, 1) # b.shape = (2, 1)\n",
        "c = a + b"
      ],
      "execution_count": 13,
      "outputs": []
    },
    {
      "cell_type": "code",
      "metadata": {
        "colab": {
          "base_uri": "https://localhost:8080/"
        },
        "id": "XH8z-NnP6JMZ",
        "outputId": "d1532f4a-b2f4-4548-daf5-35f1aa15c10e"
      },
      "source": [
        "print(a)\n",
        "print(b)\n",
        "print(c)"
      ],
      "execution_count": 14,
      "outputs": [
        {
          "output_type": "stream",
          "text": [
            "[[ 0.76147453 -1.15478314 -0.4832127 ]\n",
            " [ 0.28328584 -0.94294085 -0.15484662]]\n",
            "[[0.43365185]\n",
            " [0.56167978]]\n",
            "[[ 1.19512638 -0.72113129 -0.04956085]\n",
            " [ 0.84496562 -0.38126107  0.40683316]]\n"
          ],
          "name": "stdout"
        }
      ]
    },
    {
      "cell_type": "code",
      "metadata": {
        "colab": {
          "base_uri": "https://localhost:8080/"
        },
        "id": "kRGFmBi_6KbF",
        "outputId": "2fdec130-4e6e-4474-9348-ee4033ab89af"
      },
      "source": [
        "c.shape"
      ],
      "execution_count": 15,
      "outputs": [
        {
          "output_type": "execute_result",
          "data": {
            "text/plain": [
              "(2, 3)"
            ]
          },
          "metadata": {
            "tags": []
          },
          "execution_count": 15
        }
      ]
    },
    {
      "cell_type": "code",
      "metadata": {
        "id": "Ey74SLvn6MJY"
      },
      "source": [
        "a = np.random.randn(12288, 150) # a.shape = (12288, 150)\n",
        "b = np.random.randn(150, 45) # b.shape = (150, 45)\n",
        "c = np.dot(a,b)"
      ],
      "execution_count": 16,
      "outputs": []
    },
    {
      "cell_type": "code",
      "metadata": {
        "colab": {
          "base_uri": "https://localhost:8080/"
        },
        "id": "p-yDQMKe6pyq",
        "outputId": "1559dca0-0839-4817-b891-116f6aeb1cd5"
      },
      "source": [
        "c.shape"
      ],
      "execution_count": 17,
      "outputs": [
        {
          "output_type": "execute_result",
          "data": {
            "text/plain": [
              "(12288, 45)"
            ]
          },
          "metadata": {
            "tags": []
          },
          "execution_count": 17
        }
      ]
    },
    {
      "cell_type": "code",
      "metadata": {
        "colab": {
          "base_uri": "https://localhost:8080/"
        },
        "id": "hVbiZ_9C7UTy",
        "outputId": "a2dc5c7f-884d-46a2-a6c5-5d9bfe46f2cb"
      },
      "source": [
        "a = np.random.randn(3, 4) # a.shape = (2, 3)\n",
        "b = np.random.randn(4, 1) # b.shape = (2, 1)\n",
        "c = a + b.T\n",
        "for i in range(3):\n",
        "  for j in range(4):\n",
        "    c[i][j] = a[i][j] + b[j]\n",
        "c.shape"
      ],
      "execution_count": 18,
      "outputs": [
        {
          "output_type": "execute_result",
          "data": {
            "text/plain": [
              "(3, 4)"
            ]
          },
          "metadata": {
            "tags": []
          },
          "execution_count": 18
        }
      ]
    },
    {
      "cell_type": "code",
      "metadata": {
        "colab": {
          "base_uri": "https://localhost:8080/"
        },
        "id": "FKzX2_-d7xmn",
        "outputId": "9aaf45ff-d3f9-4120-ddaf-52be0a2dd0b5"
      },
      "source": [
        "a = np.random.randn(3, 4) # a.shape = (2, 3)\n",
        "b = np.random.randn(4, 1) # b.shape = (2, 1)\n",
        "\n",
        "c = a + b.T\n",
        "c.shape"
      ],
      "execution_count": 19,
      "outputs": [
        {
          "output_type": "execute_result",
          "data": {
            "text/plain": [
              "(3, 4)"
            ]
          },
          "metadata": {
            "tags": []
          },
          "execution_count": 19
        }
      ]
    },
    {
      "cell_type": "code",
      "metadata": {
        "colab": {
          "base_uri": "https://localhost:8080/"
        },
        "id": "5nzpqor78NXq",
        "outputId": "6cfddf0e-45a4-44f0-9145-511488839dbb"
      },
      "source": [
        "a = np.random.randn(3, 3)\n",
        "b = np.random.randn(3, 1)\n",
        "c = a*b\n",
        "c"
      ],
      "execution_count": 20,
      "outputs": [
        {
          "output_type": "execute_result",
          "data": {
            "text/plain": [
              "array([[-1.26083284,  2.22043139, -0.70297023],\n",
              "       [ 0.06458837, -0.63826941, -0.12345341],\n",
              "       [ 0.00824921,  0.2606534 , -0.27395855]])"
            ]
          },
          "metadata": {
            "tags": []
          },
          "execution_count": 20
        }
      ]
    },
    {
      "cell_type": "code",
      "metadata": {
        "id": "9LT53j8wBPfN"
      },
      "source": [
        ""
      ],
      "execution_count": 21,
      "outputs": []
    }
  ]
}